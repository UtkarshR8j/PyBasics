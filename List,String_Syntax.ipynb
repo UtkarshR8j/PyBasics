{
  "nbformat": 4,
  "nbformat_minor": 0,
  "metadata": {
    "kernelspec": {
      "display_name": "Python 3",
      "language": "python",
      "name": "python3"
    },
    "language_info": {
      "codemirror_mode": {
        "name": "ipython",
        "version": 3
      },
      "file_extension": ".py",
      "mimetype": "text/x-python",
      "name": "python",
      "nbconvert_exporter": "python",
      "pygments_lexer": "ipython3",
      "version": "3.7.6"
    },
    "colab": {
      "name": "List,String_Syntax.ipynb",
      "provenance": []
    }
  },
  "cells": [
    {
      "cell_type": "markdown",
      "metadata": {
        "id": "qu760VZoHiI9"
      },
      "source": [
        "# <ins>List Operations : "
      ]
    },
    {
      "cell_type": "code",
      "metadata": {
        "id": "NRiNggcMJnOY",
        "outputId": "e6802351-02af-4ce7-8862-8f476bd9407f"
      },
      "source": [
        "a,b = 10,100\n",
        "print(a)\n",
        "print(b)"
      ],
      "execution_count": null,
      "outputs": [
        {
          "output_type": "stream",
          "text": [
            "10\n",
            "100\n"
          ],
          "name": "stdout"
        }
      ]
    },
    {
      "cell_type": "code",
      "metadata": {
        "id": "uaTTT_AmJnOy",
        "outputId": "26060f5f-ec8e-4caf-de44-15fc234a0f23"
      },
      "source": [
        "l = [1,2,4,5]\n",
        "print(l[-1])\n",
        "#A negative index will return the last element for -1, second to last for -2 and so on"
      ],
      "execution_count": null,
      "outputs": [
        {
          "output_type": "stream",
          "text": [
            "5\n"
          ],
          "name": "stdout"
        }
      ]
    },
    {
      "cell_type": "code",
      "metadata": {
        "id": "m4YYaxxQJnOk",
        "outputId": "2b2f4460-bad4-47d2-a13a-7dab35879974"
      },
      "source": [
        "#list \n",
        "l = [1,2]\n",
        "t=9;\n",
        "print(l)\n",
        "l.append(t) # adding to list \n",
        "print(l)"
      ],
      "execution_count": null,
      "outputs": [
        {
          "output_type": "stream",
          "text": [
            "[1, 2]\n",
            "[1, 2, 9]\n"
          ],
          "name": "stdout"
        }
      ]
    },
    {
      "cell_type": "code",
      "metadata": {
        "id": "6vGFaVD-JnOl",
        "outputId": "486f4f9d-a94f-4d71-a7b9-d73b09ae5a1c"
      },
      "source": [
        "l = [1,2]\n",
        "#list\n",
        "print(l)\n",
        "l.append(\"t\")\n",
        "print(l)"
      ],
      "execution_count": null,
      "outputs": [
        {
          "output_type": "stream",
          "text": [
            "[1, 2]\n",
            "[1, 2, 't']\n"
          ],
          "name": "stdout"
        }
      ]
    },
    {
      "cell_type": "code",
      "metadata": {
        "id": "xACl_l-uJnOn",
        "outputId": "b6540c6c-754c-441e-86df-f526b21f44d3"
      },
      "source": [
        "l=[1,2]\n",
        "l.append([5,9]) #cannot directly add as seperate elements\n",
        "print(l)"
      ],
      "execution_count": null,
      "outputs": [
        {
          "output_type": "stream",
          "text": [
            "[1, 2, [5, 9]]\n"
          ],
          "name": "stdout"
        }
      ]
    },
    {
      "cell_type": "code",
      "metadata": {
        "id": "TdFQtODmJnOq",
        "outputId": "915d7800-6925-478e-9fa3-1ca28e837acc"
      },
      "source": [
        "#Extend is the proper way to add elements in a list on to the end of another list\n",
        "l = [1,2]\n",
        "l.extend([5,9])\n",
        "print(l)"
      ],
      "execution_count": null,
      "outputs": [
        {
          "output_type": "stream",
          "text": [
            "[1, 2, 5, 9]\n"
          ],
          "name": "stdout"
        }
      ]
    },
    {
      "cell_type": "code",
      "metadata": {
        "id": "-er4vXflJnOr",
        "outputId": "bf6c3116-652e-4504-91c9-232914fc755a"
      },
      "source": [
        "l = [1,2]\n",
        "l+=[5,9]\n",
        "print(l)\n",
        "#The same applies to lists"
      ],
      "execution_count": null,
      "outputs": [
        {
          "output_type": "stream",
          "text": [
            "[1, 2, 5, 9]\n"
          ],
          "name": "stdout"
        }
      ]
    },
    {
      "cell_type": "code",
      "metadata": {
        "id": "loEHzvB6JnOs",
        "outputId": "3fb156d0-0145-4b2a-fd42-cf91cadaa7b0"
      },
      "source": [
        "l = [1,2,4,5]\n",
        "print(l)\n",
        "l.insert(2,[3,7])\n",
        "print(l)\n",
        "#Given an index and an element to insert, the insert function of a list inserts an element\n",
        "#Here we insert the element 3 into the 2nd index/3rd position of our list"
      ],
      "execution_count": null,
      "outputs": [
        {
          "output_type": "stream",
          "text": [
            "[1, 2, 4, 5]\n",
            "[1, 2, [3, 7], 4, 5]\n"
          ],
          "name": "stdout"
        }
      ]
    },
    {
      "cell_type": "code",
      "metadata": {
        "id": "pUDQwU_bJnOw",
        "outputId": "ed774724-7bd9-42d4-d629-129eb96be126"
      },
      "source": [
        "# remove a certain element (not by position),\n",
        "\n",
        "l.remove(100)\n",
        "print(l)\n",
        "#Remove is a way to get rid of a certain value from your list, here we remove the value 100 from the list"
      ],
      "execution_count": null,
      "outputs": [
        {
          "output_type": "stream",
          "text": [
            "[1, 2, 4, 5]\n"
          ],
          "name": "stdout"
        }
      ]
    },
    {
      "cell_type": "code",
      "metadata": {
        "id": "ZrS3q2bHJnOx",
        "outputId": "3a95d816-07f9-4300-dbbc-2bfde6c61b0a"
      },
      "source": [
        "a = l.pop()\n",
        "print(a)\n",
        "print(l)\n",
        "#Pop removes the last variable from a list and returns it so that you can set a variable equal to it\n",
        "#Here we take 5 from the list and assign its value to a"
      ],
      "execution_count": null,
      "outputs": [
        {
          "output_type": "stream",
          "text": [
            "5\n",
            "[1, 2, 4]\n"
          ],
          "name": "stdout"
        }
      ]
    },
    {
      "cell_type": "code",
      "metadata": {
        "id": "yranwoLhJnOz",
        "outputId": "cef61de1-a34e-4b0d-c74c-aada447dc414",
        "colab": {
          "base_uri": "https://localhost:8080/"
        }
      },
      "source": [
        "l = [\"aab\",'a','a','b',9,10,9]\n",
        "c=9;\n",
        "a=10;\n",
        "print(l.count('a'))\n",
        "print(l.count('b'))\n",
        "print(l.count('c'))\n",
        "print(l.count(c))               #without quotes it gives the count of the values of the variable\n",
        "print(l.count(a))\n",
        "#Count gives us the count of variables when variables are in quotes"
      ],
      "execution_count": 1,
      "outputs": [
        {
          "output_type": "stream",
          "text": [
            "2\n",
            "1\n",
            "0\n",
            "2\n",
            "1\n"
          ],
          "name": "stdout"
        }
      ]
    },
    {
      "cell_type": "code",
      "metadata": {
        "id": "Xep2Lf8pJnO0",
        "outputId": "7e60f4f3-1d99-4b49-c4fc-b6a93df68464"
      },
      "source": [
        "l = [3,5,2,1,4]\n",
        "l.sort()\n",
        "print (l)\n",
        "print(l[-1])\n",
        "\n",
        "# Here is the max function.\n",
        "\n",
        "#Python also has max() to do this for you easily\n",
        "print(max(l))\n",
        "\n",
        "# As you can see, once we use the sort() function our list is correctly ordered. If we want the list to be in descending we can give the argument \"reverse=True\".\n",
        "\n",
        "l.sort(reverse=True)\n",
        "print(l)\n",
        "#The parameter reverse=True will give us the list with the highest numbers first\n",
        "\n",
        "#Another useful function is reverse() which does exactly that for the list.\n",
        "\n",
        "l = ['a','b','c',1,2,3]\n",
        "print(l)\n",
        "l.reverse()\n",
        "print(l)\n",
        "#Reverse() does exactly that"
      ],
      "execution_count": null,
      "outputs": [
        {
          "output_type": "stream",
          "text": [
            "[1, 2, 3, 4, 5]\n",
            "5\n",
            "5\n",
            "[5, 4, 3, 2, 1]\n",
            "['a', 'b', 'c', 1, 2, 3]\n",
            "[3, 2, 1, 'c', 'b', 'a']\n"
          ],
          "name": "stdout"
        }
      ]
    },
    {
      "cell_type": "code",
      "metadata": {
        "id": "XJlRgzQWJnO1",
        "outputId": "3021551a-2ab3-4028-b131-c432bd5f63d2"
      },
      "source": [
        "k = [1,2,3,4]\n",
        "print (k*3)\n",
        "#print (k/3) or print(k%3) or print(k+3) gives error , for these operation use list comprehension."
      ],
      "execution_count": null,
      "outputs": [
        {
          "output_type": "stream",
          "text": [
            "[1, 2, 3, 4, 1, 2, 3, 4, 1, 2, 3, 4]\n"
          ],
          "name": "stdout"
        }
      ]
    },
    {
      "cell_type": "code",
      "metadata": {
        "id": "S_jVPbj8JnO1",
        "outputId": "d40aaa3d-f5fa-44b5-9bfc-b3373fb96fd9"
      },
      "source": [
        "l1 = [1,2,3,4,5]\n",
        "l2 = [10,100,1000,100,10]\n",
        "print([x*y for x,y in zip(l1,l2)])  #list comprehension\n",
        "#Zip is the way to go through two lists together\n",
        "#The syntax is f(a,b) for a,b in zip(l1,l2) or f(a,b,c) for a,b,c in zip(l1,l2,l3) and so on"
      ],
      "execution_count": null,
      "outputs": [
        {
          "output_type": "stream",
          "text": [
            "[10, 200, 3000, 400, 50]\n"
          ],
          "name": "stdout"
        }
      ]
    },
    {
      "cell_type": "markdown",
      "metadata": {
        "id": "7ho8k1HqIAQL"
      },
      "source": [
        "# Slicing Lists and Strings : "
      ]
    },
    {
      "cell_type": "code",
      "metadata": {
        "id": "WVqp38SIJnOs",
        "outputId": "bd14b06f-3e99-40c5-9bc1-1725fc9982b0"
      },
      "source": [
        "s = \"Hello World\"\n",
        "print(s[1])\n",
        "\n",
        "print(s[0:2])   #loops not required to print elements of array\n",
        "\n",
        "print(s[:3])\n",
        "\n",
        "print(s[3:])"
      ],
      "execution_count": null,
      "outputs": [
        {
          "output_type": "stream",
          "text": [
            "e\n",
            "He\n",
            "Hel\n",
            "lo World\n"
          ],
          "name": "stdout"
        }
      ]
    },
    {
      "cell_type": "markdown",
      "metadata": {
        "id": "3NqoQsBSIHWs"
      },
      "source": [
        "# String Operations : "
      ]
    },
    {
      "cell_type": "code",
      "metadata": {
        "id": "6Gz9B0A7JnOt",
        "outputId": "666468a9-dee9-43cb-e559-21d3f670423d"
      },
      "source": [
        "text = \"there is a worm in the can, have faith  , there is a tiger in the bathroom\"\n",
        "print(text.lower())\n",
        "\n",
        "print(text)\n",
        "\n",
        "text = text.lower()\n",
        "print(text)\n",
        "\n",
        "print(text.upper())\n",
        "\n",
        "print(text.find(\"is\"))\n",
        "\n",
        "print(text.find(\"is\",12))\n",
        "#If we give a number after our word to find then we start the finding process after that number\n",
        "\n",
        "print(text.find(\"sleep\"))\n",
        "\n",
        "print(text.split('faith'))\n",
        "\n"
      ],
      "execution_count": null,
      "outputs": [
        {
          "output_type": "stream",
          "text": [
            "there is a worm in the can, have faith  , there is a tiger in the bathroom\n",
            "there is a worm in the can, have faith  , there is a tiger in the bathroom\n",
            "there is a worm in the can, have faith  , there is a tiger in the bathroom\n",
            "THERE IS A WORM IN THE CAN, HAVE FAITH  , THERE IS A TIGER IN THE BATHROOM\n",
            "6\n",
            "48\n",
            "-1\n",
            "['there is a worm in the can, have ', '  , there is a tiger in the bathroom']\n"
          ],
          "name": "stdout"
        }
      ]
    },
    {
      "cell_type": "markdown",
      "metadata": {
        "id": "mcAeWzUsKA_5"
      },
      "source": [
        "# TUPLES : \r\n",
        "- A tuple is similar to a list but has less flexibility\r\n",
        "- Tuples can't be modified, so the below code will fail.\r\n",
        "- You can't set a value on a tuple, so it can be good if you don't want to accidently change your data later"
      ]
    },
    {
      "cell_type": "code",
      "metadata": {
        "scrolled": true,
        "id": "BEQ3HDhkJnO2",
        "outputId": "5601c388-f42b-4f0d-8eaf-8fbc07c6e980",
        "colab": {
          "base_uri": "https://localhost:8080/"
        }
      },
      "source": [
        "t = (1,1)\n",
        "print(t)\n",
        "t = (1,1)\n",
        "# t[1] = 0  error\n",
        "t.count(1)\n",
        "t.index(1)\n",
        "t[0]"
      ],
      "execution_count": 2,
      "outputs": [
        {
          "output_type": "stream",
          "text": [
            "(1, 1)\n"
          ],
          "name": "stdout"
        },
        {
          "output_type": "execute_result",
          "data": {
            "text/plain": [
              "1"
            ]
          },
          "metadata": {
            "tags": []
          },
          "execution_count": 2
        }
      ]
    },
    {
      "cell_type": "markdown",
      "metadata": {
        "id": "RaSwba3KKV2d"
      },
      "source": [
        "# Sets : \r\n",
        "- Now, sets are similar to the last two data structures except they only hold unique values."
      ]
    },
    {
      "cell_type": "code",
      "metadata": {
        "id": "dOvEQ-4sKks6",
        "outputId": "e5f86693-e2a6-4954-9f0a-e6c765845522",
        "colab": {
          "base_uri": "https://localhost:8080/"
        }
      },
      "source": [
        "s = {1,2,3}\r\n",
        "l = [1,1,1,2,2,3]\r\n",
        "s = set(l)\r\n",
        "print(s)\r\n",
        "#So here we see that the set is only 1, 2, 3 because those are the unique values"
      ],
      "execution_count": 3,
      "outputs": [
        {
          "output_type": "stream",
          "text": [
            "{1, 2, 3}\n"
          ],
          "name": "stdout"
        }
      ]
    },
    {
      "cell_type": "code",
      "metadata": {
        "id": "c-TXqcz4JnO3",
        "outputId": "6e16dda7-ef7b-4972-b482-6443731800d7",
        "colab": {
          "base_uri": "https://localhost:8080/"
        }
      },
      "source": [
        "\n",
        "\n",
        "#An interesting method that sets have is union which allows for finding all unique elements between two sets.\n",
        "\n",
        "s1 = {1,2}\n",
        "s2 = {2,3}\n",
        "print(s1.union(s2))\n",
        "print(s1.intersection(s2))\n",
        "print(s1.isdisjoint(s2))\n",
        "s1.remove(2)\n",
        "print(s1)\n",
        "print(s1.isdisjoint(s2))"
      ],
      "execution_count": 4,
      "outputs": [
        {
          "output_type": "stream",
          "text": [
            "{1, 2, 3}\n",
            "{2}\n",
            "False\n",
            "{1}\n",
            "True\n"
          ],
          "name": "stdout"
        }
      ]
    },
    {
      "cell_type": "markdown",
      "metadata": {
        "id": "Eys9MFK0JgxZ"
      },
      "source": [
        "# BOOLEAN "
      ]
    },
    {
      "cell_type": "code",
      "metadata": {
        "id": "9VuFWQjGJnO4",
        "outputId": "86247d93-c7e1-4036-9dc2-79e682a6297e"
      },
      "source": [
        "\n",
        "a = 5\n",
        "print(a==5)\n",
        "\n",
        "#We can also check if something is equal with \"!=\" or we can check any less than or greater than equality.\n",
        "\n",
        "print(6!=5)\n",
        "print(5 >= 5)\n",
        "print(5 <= 4)\n",
        "print(5 > 5)\n",
        "print(3 < 4)"
      ],
      "execution_count": null,
      "outputs": [
        {
          "output_type": "stream",
          "text": [
            "True\n",
            "True\n",
            "True\n",
            "False\n",
            "False\n",
            "True\n"
          ],
          "name": "stdout"
        }
      ]
    },
    {
      "cell_type": "markdown",
      "metadata": {
        "id": "g16Tv12ULVOu"
      },
      "source": [
        "# Miscelleneous"
      ]
    },
    {
      "cell_type": "code",
      "metadata": {
        "id": "_3A_vlZcJnO7",
        "outputId": "02bf906f-2b13-4512-de6b-c923e1d6bdb4",
        "colab": {
          "base_uri": "https://localhost:8080/"
        }
      },
      "source": [
        "a = True\n",
        "print(a)\n",
        "print(int(a))\n",
        "type(print(a))"
      ],
      "execution_count": 6,
      "outputs": [
        {
          "output_type": "stream",
          "text": [
            "True\n",
            "1\n",
            "True\n"
          ],
          "name": "stdout"
        },
        {
          "output_type": "execute_result",
          "data": {
            "text/plain": [
              "NoneType"
            ]
          },
          "metadata": {
            "tags": []
          },
          "execution_count": 6
        }
      ]
    },
    {
      "cell_type": "code",
      "metadata": {
        "id": "1ste90YJK3c5",
        "outputId": "a6e8245d-7442-478a-9c63-dc7cc92c5358",
        "colab": {
          "base_uri": "https://localhost:8080/"
        }
      },
      "source": [
        "if print(9>1) :\r\n",
        "  print(\"a\")"
      ],
      "execution_count": 5,
      "outputs": [
        {
          "output_type": "stream",
          "text": [
            "True\n"
          ],
          "name": "stdout"
        }
      ]
    }
  ]
}