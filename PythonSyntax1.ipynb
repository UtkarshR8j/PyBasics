{
 "cells": [
  {
   "cell_type": "code",
   "execution_count": 18,
   "metadata": {},
   "outputs": [
    {
     "name": "stdout",
     "output_type": "stream",
     "text": [
      "10\n",
      "100\n"
     ]
    }
   ],
   "source": [
    "a,b = 10,100\n",
    "print(a)\n",
    "print(b)"
   ]
  },
  {
   "cell_type": "code",
   "execution_count": 3,
   "metadata": {},
   "outputs": [
    {
     "name": "stdout",
     "output_type": "stream",
     "text": [
      "[1, 2]\n",
      "[1, 2, 9]\n"
     ]
    }
   ],
   "source": [
    "#list \n",
    "l = [1,2]\n",
    "t=9;\n",
    "print(l)\n",
    "l.append(t) # adding to list \n",
    "print(l)"
   ]
  },
  {
   "cell_type": "code",
   "execution_count": 13,
   "metadata": {},
   "outputs": [
    {
     "name": "stdout",
     "output_type": "stream",
     "text": [
      "[1, 2]\n",
      "[1, 2, 't']\n"
     ]
    }
   ],
   "source": [
    "l = [1,2]\n",
    "#list\n",
    "print(l)\n",
    "l.append(\"t\")\n",
    "print(l)"
   ]
  },
  {
   "cell_type": "code",
   "execution_count": 6,
   "metadata": {},
   "outputs": [
    {
     "name": "stdout",
     "output_type": "stream",
     "text": [
      "[1, 2]\n"
     ]
    },
    {
     "ename": "NameError",
     "evalue": "name 'j' is not defined",
     "output_type": "error",
     "traceback": [
      "\u001b[1;31m---------------------------------------------------------------------------\u001b[0m",
      "\u001b[1;31mNameError\u001b[0m                                 Traceback (most recent call last)",
      "\u001b[1;32m<ipython-input-6-adf06442d158>\u001b[0m in \u001b[0;36m<module>\u001b[1;34m\u001b[0m\n\u001b[0;32m      2\u001b[0m \u001b[1;33m\u001b[0m\u001b[0m\n\u001b[0;32m      3\u001b[0m \u001b[0mprint\u001b[0m\u001b[1;33m(\u001b[0m\u001b[0ml\u001b[0m\u001b[1;33m)\u001b[0m\u001b[1;33m\u001b[0m\u001b[1;33m\u001b[0m\u001b[0m\n\u001b[1;32m----> 4\u001b[1;33m \u001b[0ml\u001b[0m\u001b[1;33m.\u001b[0m\u001b[0mappend\u001b[0m\u001b[1;33m(\u001b[0m\u001b[0mj\u001b[0m\u001b[1;33m)\u001b[0m\u001b[1;33m\u001b[0m\u001b[1;33m\u001b[0m\u001b[0m\n\u001b[0m\u001b[0;32m      5\u001b[0m \u001b[0mprint\u001b[0m\u001b[1;33m(\u001b[0m\u001b[0ml\u001b[0m\u001b[1;33m)\u001b[0m\u001b[1;33m\u001b[0m\u001b[1;33m\u001b[0m\u001b[0m\n",
      "\u001b[1;31mNameError\u001b[0m: name 'j' is not defined"
     ]
    }
   ],
   "source": [
    "l = [1,2]\n",
    "\n",
    "print(l)\n",
    "l.append(j)  #error cannot add \n",
    "print(l)"
   ]
  },
  {
   "cell_type": "code",
   "execution_count": 17,
   "metadata": {},
   "outputs": [
    {
     "name": "stdout",
     "output_type": "stream",
     "text": [
      "[1, 2, [5, 9]]\n"
     ]
    }
   ],
   "source": [
    "l=[1,2]\n",
    "l.append([5,9]) #cannot directly add as seperate elements\n",
    "print(l)"
   ]
  },
  {
   "cell_type": "code",
   "execution_count": 15,
   "metadata": {},
   "outputs": [
    {
     "name": "stdout",
     "output_type": "stream",
     "text": [
      "[1, 2, 5, 9]\n"
     ]
    }
   ],
   "source": [
    "#Extend is the proper way to add elements in a list on to the end of another list\n",
    "l = [1,2]\n",
    "l.extend([5,9])\n",
    "print(l)"
   ]
  },
  {
   "cell_type": "code",
   "execution_count": 16,
   "metadata": {},
   "outputs": [
    {
     "name": "stdout",
     "output_type": "stream",
     "text": [
      "[1, 2, 5, 9]\n"
     ]
    }
   ],
   "source": [
    "l = [1,2]\n",
    "l+=[5,9]\n",
    "print(l)\n",
    "#The same applies to lists"
   ]
  },
  {
   "cell_type": "code",
   "execution_count": 1,
   "metadata": {},
   "outputs": [
    {
     "name": "stdout",
     "output_type": "stream",
     "text": [
      "[1, 2, 4, 5]\n",
      "[1, 2, [3, 7], 4, 5]\n"
     ]
    }
   ],
   "source": [
    "l = [1,2,4,5]\n",
    "print(l)\n",
    "l.insert(2,[3,7])\n",
    "print(l)\n",
    "#Given an index and an element to insert, the insert function of a list inserts an element\n",
    "#Here we insert the element 3 into the 2nd index/3rd position of our list"
   ]
  },
  {
   "cell_type": "code",
   "execution_count": 14,
   "metadata": {},
   "outputs": [
    {
     "name": "stdout",
     "output_type": "stream",
     "text": [
      "e\n",
      "He\n",
      "Hel\n",
      "lo World\n"
     ]
    }
   ],
   "source": [
    "s = \"Hello World\"\n",
    "print(s[1])\n",
    "\n",
    "print(s[0:2])   #loops not required to print elements of array\n",
    "\n",
    "print(s[:3])\n",
    "\n",
    "print(s[3:])"
   ]
  },
  {
   "cell_type": "code",
   "execution_count": 10,
   "metadata": {},
   "outputs": [
    {
     "name": "stdout",
     "output_type": "stream",
     "text": [
      "there is a worm in the can, have faith  , there is a tiger in the bathroom\n",
      "there is a worm in the can, have faith  , there is a tiger in the bathroom\n",
      "there is a worm in the can, have faith  , there is a tiger in the bathroom\n",
      "THERE IS A WORM IN THE CAN, HAVE FAITH  , THERE IS A TIGER IN THE BATHROOM\n",
      "6\n",
      "48\n",
      "-1\n",
      "['there is a worm in the can, have ', '  , there is a tiger in the bathroom']\n"
     ]
    }
   ],
   "source": [
    "text = \"there is a worm in the can, have faith  , there is a tiger in the bathroom\"\n",
    "print(text.lower())\n",
    "\n",
    "print(text)\n",
    "\n",
    "text = text.lower()\n",
    "print(text)\n",
    "\n",
    "print(text.upper())\n",
    "\n",
    "print(text.find(\"is\"))\n",
    "\n",
    "print(text.find(\"is\",12))\n",
    "#If we give a number after our word to find then we start the finding process after that number\n",
    "\n",
    "print(text.find(\"sleep\"))\n",
    "\n",
    "print(text.split('faith'))\n",
    "\n"
   ]
  },
  {
   "cell_type": "code",
   "execution_count": 1,
   "metadata": {},
   "outputs": [
    {
     "name": "stdout",
     "output_type": "stream",
     "text": [
      "[1, 2, 4, 5]\n",
      "[1, 2, 3, 4, 5]\n"
     ]
    }
   ],
   "source": [
    "#is insert(), which allows you to inset an element where you'd like\n",
    "l = [1,2,4,5]\n",
    "print(l)\n",
    "l.insert(2,3)\n",
    "print(l)\n",
    "#Given an index and an element to insert, the insert function of a list inserts an element\n",
    "#Here we insert the element 3 into the 2nd index/3rd position of our list\n"
   ]
  },
  {
   "cell_type": "code",
   "execution_count": 2,
   "metadata": {},
   "outputs": [
    {
     "name": "stdout",
     "output_type": "stream",
     "text": [
      "[1, 2, 100, 4, 5]\n"
     ]
    }
   ],
   "source": [
    "l[2] = 100\n",
    "print(l)\n",
    "#You can also overwrite a value in a list by indexing by it and setting a value"
   ]
  },
  {
   "cell_type": "code",
   "execution_count": 3,
   "metadata": {},
   "outputs": [
    {
     "name": "stdout",
     "output_type": "stream",
     "text": [
      "[1, 2, 4, 5]\n"
     ]
    }
   ],
   "source": [
    "# remove a certain element (not by position),\n",
    "\n",
    "l.remove(100)\n",
    "print(l)\n",
    "#Remove is a way to get rid of a certain value from your list, here we remove the value 100 from the list"
   ]
  },
  {
   "cell_type": "code",
   "execution_count": 4,
   "metadata": {},
   "outputs": [
    {
     "name": "stdout",
     "output_type": "stream",
     "text": [
      "5\n",
      "[1, 2, 4]\n"
     ]
    }
   ],
   "source": [
    "a = l.pop()\n",
    "print(a)\n",
    "print(l)\n",
    "#Pop removes the last variable from a list and returns it so that you can set a variable equal to it\n",
    "#Here we take 5 from the list and assign its value to a"
   ]
  },
  {
   "cell_type": "code",
   "execution_count": 5,
   "metadata": {},
   "outputs": [
    {
     "name": "stdout",
     "output_type": "stream",
     "text": [
      "2\n",
      "[1, 4]\n"
     ]
    }
   ],
   "source": [
    "a = l.pop(1) #specifing which element to remove by index\n",
    "print(a)\n",
    "print(l)"
   ]
  },
  {
   "cell_type": "code",
   "execution_count": 7,
   "metadata": {},
   "outputs": [
    {
     "name": "stdout",
     "output_type": "stream",
     "text": [
      "5\n"
     ]
    }
   ],
   "source": [
    "l = [1,2,4,5]\n",
    "print(l[-1])\n",
    "#A negative index will return the last element for -1, second to last for -2 and so on"
   ]
  },
  {
   "cell_type": "code",
   "execution_count": 2,
   "metadata": {},
   "outputs": [
    {
     "name": "stdout",
     "output_type": "stream",
     "text": [
      "3\n",
      "[1, 2, 3, 2, 3]\n",
      "100\n"
     ]
    }
   ],
   "source": [
    "l = [1,2,3,100,2,3]\n",
    "#Example: Find the index of 100, then use that to set a variable a equal to it by using pop\n",
    "index = l.index(100)\n",
    "print(index)\n",
    "a = l.pop(index)\n",
    "print(l)\n",
    "print(a)"
   ]
  },
  {
   "cell_type": "code",
   "execution_count": 8,
   "metadata": {},
   "outputs": [
    {
     "name": "stdout",
     "output_type": "stream",
     "text": [
      "2\n",
      "1\n",
      "0\n",
      "2\n",
      "1\n"
     ]
    }
   ],
   "source": [
    "l = ['a','a','b',9,10,9]\n",
    "c=9;\n",
    "a=10;\n",
    "print(l.count('a'))\n",
    "print(l.count('b'))\n",
    "print(l.count('c'))\n",
    "print(l.count(c))               #without quotes it gives the count of the values of the variable\n",
    "print(l.count(a))\n",
    "#Count gives us the count of variables when variables are in quotes"
   ]
  },
  {
   "cell_type": "code",
   "execution_count": 10,
   "metadata": {},
   "outputs": [
    {
     "name": "stdout",
     "output_type": "stream",
     "text": [
      "[1, 2, 3, 4, 5]\n",
      "5\n",
      "5\n",
      "[5, 4, 3, 2, 1]\n",
      "['a', 'b', 'c', 1, 2, 3]\n",
      "[3, 2, 1, 'c', 'b', 'a']\n"
     ]
    }
   ],
   "source": [
    "l = [3,5,2,1,4]\n",
    "l.sort()\n",
    "print (l)\n",
    "print(l[-1])\n",
    "\n",
    "# Here is the max function.\n",
    "\n",
    "#Python also has max() to do this for you easily\n",
    "print(max(l))\n",
    "\n",
    "# As you can see, once we use the sort() function our list is correctly ordered. If we want the list to be in descending we can give the argument \"reverse=True\".\n",
    "\n",
    "l.sort(reverse=True)\n",
    "print(l)\n",
    "#The parameter reverse=True will give us the list with the highest numbers first\n",
    "\n",
    "#Another useful function is reverse() which does exactly that for the list.\n",
    "\n",
    "l = ['a','b','c',1,2,3]\n",
    "print(l)\n",
    "l.reverse()\n",
    "print(l)\n",
    "#Reverse() does exactly that"
   ]
  },
  {
   "cell_type": "code",
   "execution_count": 11,
   "metadata": {},
   "outputs": [
    {
     "name": "stdout",
     "output_type": "stream",
     "text": [
      "[1, 2, 3, 4, 1, 2, 3, 4]\n"
     ]
    }
   ],
   "source": [
    "l = [1,2,3,4]\n",
    "print(l*2)\n",
    "#If you multiply a list by an integer it will repeat that list that many times"
   ]
  },
  {
   "cell_type": "code",
   "execution_count": 9,
   "metadata": {},
   "outputs": [
    {
     "name": "stdout",
     "output_type": "stream",
     "text": [
      "[1, 2, 3, 4, 1, 2, 3, 4, 1, 2, 3, 4]\n"
     ]
    }
   ],
   "source": [
    "k = [1,2,3,4]\n",
    "print (k*3)\n",
    "#print (k/3) or print(k%3) or print(k+3) gives error , for these operation use list comprehension."
   ]
  },
  {
   "cell_type": "code",
   "execution_count": 8,
   "metadata": {},
   "outputs": [
    {
     "name": "stdout",
     "output_type": "stream",
     "text": [
      "[1, 2, 3, 4]\n",
      "[2, 4, 6, 8]\n",
      "[2, 1, 0, 2]\n"
     ]
    }
   ],
   "source": [
    "l = [1,2,3,4]\n",
    "print(l)\n",
    "l = [x*2 for x in l]   #list comprehension\n",
    "print(l)\n",
    "l=[x%3 for x in l]\n",
    "print(l)\n",
    "\n",
    "\n",
    "#List comprehension let's us define a function to apply to all elements in a list\n",
    "#The format is [f(x) for x in l] where x is the variable name that we give for each element and l is the list we want\n",
    "#to use. f(x) is the function we create, so f(y) for y in l is also a valid operation or f(num) for num in l"
   ]
  },
  {
   "cell_type": "code",
   "execution_count": 14,
   "metadata": {},
   "outputs": [
    {
     "name": "stdout",
     "output_type": "stream",
     "text": [
      "[10, 200, 3000, 400, 50]\n"
     ]
    }
   ],
   "source": [
    "l1 = [1,2,3,4,5]\n",
    "l2 = [10,100,1000,100,10]\n",
    "print([x*y for x,y in zip(l1,l2)])  #list comprehension\n",
    "#Zip is the way to go through two lists together\n",
    "#The syntax is f(a,b) for a,b in zip(l1,l2) or f(a,b,c) for a,b,c in zip(l1,l2,l3) and so on"
   ]
  },
  {
   "cell_type": "code",
   "execution_count": 10,
   "metadata": {},
   "outputs": [
    {
     "name": "stdout",
     "output_type": "stream",
     "text": [
      "[[1, 2], [3, 4]]\n",
      "[1, 2]\n",
      "1\n"
     ]
    }
   ],
   "source": [
    "l = [[1,2],[3,4]]\n",
    "print(l)\n",
    "#Many times we use a nested list to represent things\n",
    "\n",
    "#The first element is not 1, however, it is the first list [1,2].\n",
    "\n",
    "print(l[0])\n",
    "#The first index returns the first list\n",
    "print(l[0][0])\n",
    "#This returns the first element of the first list element\n"
   ]
  },
  {
   "cell_type": "code",
   "execution_count": 11,
   "metadata": {
    "scrolled": true
   },
   "outputs": [
    {
     "name": "stdout",
     "output_type": "stream",
     "text": [
      "(1, 1)\n"
     ]
    },
    {
     "data": {
      "text/plain": [
       "1"
      ]
     },
     "execution_count": 11,
     "metadata": {},
     "output_type": "execute_result"
    }
   ],
   "source": [
    "# Now, on to tuples. The way we declare a tuple is with () instead of []. For example...\n",
    "\n",
    "t = (1,1)\n",
    "print(t)\n",
    "\n",
    "#A tuple is similar to a list but has less flexibility\n",
    "\n",
    "#Tuples can't be modified, so the below code will fail.\n",
    "\n",
    "#You can't set a value on a tuple, so it can be good if you don't want to accidently change your data later\n",
    "t = (1,1)\n",
    "# t[1] = 0  error\n",
    "\n",
    "#Like lists, there is a count() function.\n",
    "\n",
    "t.count(1)\n",
    "\n",
    "#There is also an index function.\n",
    "\n",
    "t.index(1)\n",
    "\n",
    "#And we index it the same way as a list.\n",
    "\n",
    "t[0]\n",
    "#We can index again to get the first element of the first list.\n",
    "\n"
   ]
  },
  {
   "cell_type": "code",
   "execution_count": 21,
   "metadata": {},
   "outputs": [
    {
     "name": "stdout",
     "output_type": "stream",
     "text": [
      "{1, 2, 3}\n",
      "{1, 2, 3}\n",
      "{2}\n",
      "False\n",
      "{1}\n",
      "True\n"
     ]
    }
   ],
   "source": [
    "# Now, sets are similar to the last two data structures except they only hold unique values. Watch what happens when we make a set from a list which has repeating elements.\n",
    "\n",
    "s = {1,2,3}\n",
    "#A set gives us unique values\n",
    "\n",
    "l = [1,1,1,2,2,3]\n",
    "s = set(l)\n",
    "print(s)\n",
    "#So here we see that the set is only 1, 2, 3 because those are the unique values\n",
    "\n",
    "#An interesting method that sets have is union which allows for finding all unique elements between two sets.\n",
    "\n",
    "s1 = {1,2}\n",
    "s2 = {2,3}\n",
    "print(s1.union(s2))\n",
    "#Union joins the unique elements together\n",
    "\n",
    "#Likewise, there is also an intersection method.\n",
    "\n",
    "print(s1.intersection(s2))\n",
    "#Intersection finds where they overlap\n",
    "\n",
    "#Finally, there is a disjoint function for finding if two sets are disjoint as well as a remove function to remove elements.\n",
    "\n",
    "print(s1.isdisjoint(s2))\n",
    "#They have an overlapping element so they are not disjoint\n",
    "s1.remove(2)\n",
    "print(s1)\n",
    "print(s1.isdisjoint(s2))\n",
    "#But now they are since we got rid of 2 from s1"
   ]
  },
  {
   "cell_type": "code",
   "execution_count": 12,
   "metadata": {},
   "outputs": [
    {
     "name": "stdout",
     "output_type": "stream",
     "text": [
      "True\n",
      "True\n",
      "True\n",
      "False\n",
      "False\n",
      "True\n"
     ]
    }
   ],
   "source": [
    "#BOOLEAN\n",
    "\n",
    "a = 5\n",
    "print(a==5)\n",
    "\n",
    "#We can also check if something is equal with \"!=\" or we can check any less than or greater than equality.\n",
    "\n",
    "print(6!=5)\n",
    "print(5 >= 5)\n",
    "print(5 <= 4)\n",
    "print(5 > 5)\n",
    "print(3 < 4)"
   ]
  },
  {
   "cell_type": "code",
   "execution_count": 13,
   "metadata": {},
   "outputs": [
    {
     "name": "stdout",
     "output_type": "stream",
     "text": [
      "True\n",
      "1\n"
     ]
    }
   ],
   "source": [
    "a = True\n",
    "print(a)\n",
    "print(int(a))"
   ]
  },
  {
   "cell_type": "code",
   "execution_count": 15,
   "metadata": {},
   "outputs": [
    {
     "name": "stdout",
     "output_type": "stream",
     "text": [
      "Bad\n"
     ]
    }
   ],
   "source": [
    "a = 10\n",
    "if a==5:\n",
    "    print(\"Good\")\n",
    "elif a==6:    #elif instead of else if\n",
    "    print(\"Meh\")\n",
    "elif a==10:\n",
    "    print(\"Bad\")"
   ]
  },
  {
   "cell_type": "code",
   "execution_count": 2,
   "metadata": {},
   "outputs": [],
   "source": [
    "#LOOPING SYNTAX\n",
    "for i in range(0,5):\n",
    "    for j in range(0,5):\n",
    "      #  print(\"First: \"+str(i)+\", Last: \"+str(j))\n",
    "        if j ==2:\n",
    "            break\n",
    "\n",
    "for x in range(0,5):\n",
    "   # print(x)\n",
    "    if x>2:\n",
    "        continue\n",
    "   # print(\"XX\")\n",
    "   # print(\"XX\")\n",
    "   # print(\"XX\")"
   ]
  },
  {
   "cell_type": "code",
   "execution_count": 18,
   "metadata": {},
   "outputs": [
    {
     "name": "stdout",
     "output_type": "stream",
     "text": [
      "2\n",
      "12\n",
      "30\n"
     ]
    }
   ],
   "source": [
    "l1 = [1,2,3]\n",
    "l2 = [2,6,10]\n",
    "for x,y in zip(l1,l2):\n",
    "    print(x*y)"
   ]
  },
  {
   "cell_type": "code",
   "execution_count": 19,
   "metadata": {},
   "outputs": [
    {
     "name": "stdout",
     "output_type": "stream",
     "text": [
      "[1, 2, 3]\n",
      "[4, 5, 6]\n",
      "[7, 8, 9]\n"
     ]
    }
   ],
   "source": [
    "l = [[1,2,3],[4,5,6],[7,8,9]]\n",
    "for x in l:\n",
    "    print(x)"
   ]
  },
  {
   "cell_type": "code",
   "execution_count": 27,
   "metadata": {},
   "outputs": [
    {
     "name": "stdout",
     "output_type": "stream",
     "text": [
      "0\n",
      "Count of 0:0\n",
      "2\n",
      "Count of 2:0\n",
      "4\n",
      "Count of 4:0\n",
      "6\n",
      "Count of 6:0\n",
      "8\n",
      "Count of 8:0\n"
     ]
    }
   ],
   "source": [
    "#Example: Getting the sum of even numbers\n",
    "total = 0\n",
    "for x in range(10):\n",
    "    if x%2==1:\n",
    "        continue\n",
    "    print(x)\n",
    "    total+=x\n",
    "    print(\"Count of \"+str(x)+\":\" +str(l.count(x)))"
   ]
  },
  {
   "cell_type": "code",
   "execution_count": 22,
   "metadata": {},
   "outputs": [
    {
     "name": "stdout",
     "output_type": "stream",
     "text": [
      "6\n"
     ]
    }
   ],
   "source": [
    "#Example: Keep adding one until the value of i is divisible by 8\n",
    "i = 1\n",
    "while i%6 != 0:\n",
    "    i+=1\n",
    "print(i)"
   ]
  },
  {
   "cell_type": "code",
   "execution_count": 1,
   "metadata": {},
   "outputs": [
    {
     "name": "stdout",
     "output_type": "stream",
     "text": [
      "[0, 1, 2, 3, 4, 5, 6, 7, 8, 9, 10, 11, 12, 13, 14, 15, 16, 17, 18, 19, 20, 21, 22, 23, 24, 25, 26, 27, 28, 29, 30, 31, 32, 33, 34, 35, 36, 37, 38, 39, 40, 41, 42, 43, 44, 45, 46, 47, 48, 49, 50, 51, 52, 53, 54, 55, 56, 57, 58, 59, 60, 61, 62, 63, 64, 65, 66, 67, 68, 69, 70, 71, 72, 73, 74, 75, 76, 77, 78, 79, 80, 81, 82, 83, 84, 85, 86, 87, 88, 89, 90, 91, 92, 93, 94, 95, 96, 97, 98, 99, 100]\n"
     ]
    }
   ],
   "source": [
    "\n",
    "xValues = list(range(0,101))\n",
    "print (xValues)"
   ]
  },
  {
   "cell_type": "code",
   "execution_count": null,
   "metadata": {},
   "outputs": [],
   "source": []
  }
 ],
 "metadata": {
  "kernelspec": {
   "display_name": "Python 3",
   "language": "python",
   "name": "python3"
  },
  "language_info": {
   "codemirror_mode": {
    "name": "ipython",
    "version": 3
   },
   "file_extension": ".py",
   "mimetype": "text/x-python",
   "name": "python",
   "nbconvert_exporter": "python",
   "pygments_lexer": "ipython3",
   "version": "3.7.6"
  }
 },
 "nbformat": 4,
 "nbformat_minor": 4
}
