{
 "cells": [
  {
   "cell_type": "code",
   "execution_count": 13,
   "metadata": {},
   "outputs": [
    {
     "name": "stdout",
     "output_type": "stream",
     "text": [
      "Enter the website name : goodreads\n",
      "dict_values(['goodreads', '@good/good1good|', ''])\n"
     ]
    }
   ],
   "source": [
    "# This is an attempt to create a redimentary password generator and manager which follows a pattern to general a password\n",
    "# from the given name of the website using a set pattern . \n",
    "# This meathod relieves the user from the responsibility of memorising the passwords .\n",
    "\n",
    "site_name = input(\"Enter the website name : \") \n",
    "\n",
    "def generatepassword(s):\n",
    "    l= int(len(s)/2)\n",
    "    part1 = site_name[0:l]\n",
    "    password = part1.join(\"@/1|\")\n",
    "    return password \n",
    "data = {\"site\":site_name , \"password\":generatepassword(site_name) , \"username\" : \"\"}\n",
    "# data.setdefault(\"site\",\"password\",\"email\")\n",
    "print (data.values())"
   ]
  },
  {
   "cell_type": "code",
   "execution_count": null,
   "metadata": {},
   "outputs": [],
   "source": []
  },
  {
   "cell_type": "code",
   "execution_count": null,
   "metadata": {},
   "outputs": [],
   "source": []
  }
 ],
 "metadata": {
  "kernelspec": {
   "display_name": "Python 3",
   "language": "python",
   "name": "python3"
  }
 },
 "nbformat": 4,
 "nbformat_minor": 2
}
