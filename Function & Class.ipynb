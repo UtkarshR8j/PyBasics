{
 "cells": [
  {
   "cell_type": "code",
   "execution_count": 3,
   "metadata": {
    "collapsed": true
   },
   "outputs": [
    {
     "name": "stdout",
     "output_type": "stream",
     "text": [
      "John\n",
      "Doe\n",
      "dict_keys(['First', 'Last'])\n",
      "dict_values(['John', 'Doe'])\n",
      "2\n",
      "False\n",
      "True\n"
     ]
    },
    {
     "data": {
      "text/plain": [
       "True"
      ]
     },
     "execution_count": 3,
     "metadata": {},
     "output_type": "execute_result"
    }
   ],
   "source": [
    "name =  {\"First\":\"John\",\"Last\":\"Doe\"}\n",
    "\n",
    "print(name[\"First\"])\n",
    "\n",
    "print(name[\"Last\"])\n",
    "\n",
    "print(name.keys())\n",
    "\n",
    "print(name.values())\n",
    "\n",
    "print(len(name))\n",
    "\n",
    "print ('John' in name)\n",
    "print ('Last' in name)\n",
    "\n",
    "'John' in name.values()"
   ]
  },
  {
   "cell_type": "code",
   "execution_count": null,
   "metadata": {},
   "outputs": [],
   "source": []
  },
  {
   "cell_type": "code",
   "execution_count": 4,
   "metadata": {},
   "outputs": [
    {
     "name": "stdout",
     "output_type": "stream",
     "text": [
      "John\n",
      "The key is not in the dictionary or in the values\n",
      "John\n"
     ]
    }
   ],
   "source": [
    "def dictPrint(dictionary,key):\n",
    "    if key in dictionary:\n",
    "        print(dictionary[key])\n",
    "    elif key in dictionary.values():\n",
    "        print(key)\n",
    "    else:\n",
    "        print(\"The key is not in the dictionary or in the values\")\n",
    "dictPrint(name,'First')\n",
    "dictPrint(name,'Middle')\n",
    "dictPrint(name,'John')"
   ]
  },
  {
   "cell_type": "code",
   "execution_count": 9,
   "metadata": {},
   "outputs": [
    {
     "name": "stdout",
     "output_type": "stream",
     "text": [
      "I am 15 years old.\n",
      "I am 15 years old.\n"
     ]
    }
   ],
   "source": [
    "class person:\n",
    "    age = 15\n",
    "    def sayHi(sel):\n",
    "        print(\"Hi\")   #this sel here is the object associated to this class\n",
    "    def tellAge(sel):\n",
    "        print(\"I am \"+str(sel.age)+\" years old.\")\n",
    "\n",
    "Carl = person()\n",
    "Carl.tellAge()\n",
    "Tom = person()\n",
    "Tom.tellAge()"
   ]
  },
  {
   "cell_type": "code",
   "execution_count": 10,
   "metadata": {},
   "outputs": [
    {
     "name": "stdout",
     "output_type": "stream",
     "text": [
      "I am 15 years old.\n",
      "I am 20 years old.\n",
      "I am 15 years old.\n"
     ]
    }
   ],
   "source": [
    "Dan = person()\n",
    "Dan.tellAge()\n",
    "#If we assign a value over the current one we get a different result\n",
    "Carl = person()         # here Carl becomes the object instance to the class\n",
    "Carl.age = 20\n",
    "Carl.tellAge()\n",
    "#But the attribute stays the same for Dan\n",
    "Dan.tellAge()"
   ]
  },
  {
   "cell_type": "code",
   "execution_count": 2,
   "metadata": {},
   "outputs": [
    {
     "name": "stdout",
     "output_type": "stream",
     "text": [
      "I am 25 years old.\n"
     ]
    }
   ],
   "source": [
    "#Using __init__ let's us set up an initialization\n",
    "#We pass it arguments and then we can use those to set attributes or properties\n",
    "#Here we pass an age attribute and give it to our class object\n",
    "class person:\n",
    "    def __init__(self, AGE):\n",
    "        self.age = AGE   #here self is the instance and age is the attribute being initialized\n",
    "                        # the attribute age is automatically created and equated with the input.\n",
    "    def sayHi(self):\n",
    "        print(\"Hi\")\n",
    "    def tellAge(self):\n",
    "        print(\"I am \"+str(self.age)+\" years old.\")\n",
    "\n",
    "#So now, our constructor takes age as an argument and sets the instance's age equal to that number.\n",
    "\n",
    "#Now Carl is 25 years old\n",
    "Carl = person(25)\n",
    "Carl.tellAge()"
   ]
  },
  {
   "cell_type": "code",
   "execution_count": 3,
   "metadata": {},
   "outputs": [
    {
     "name": "stdout",
     "output_type": "stream",
     "text": [
      "I am 25 years old.\n",
      "I'm Joe and I go to Harvard.\n"
     ]
    }
   ],
   "source": [
    "#INHERITENCE\n",
    "class person:\n",
    "    def __init__(self, age,name):\n",
    "        assert type(age)==int, \"Age must be an integer\"\n",
    "        assert type(name) == str, \"Name must be a string\"\n",
    "        self.age = age\n",
    "        self.name = name\n",
    "    def sayHi(self):\n",
    "        print(\"Hi\")\n",
    "    def tellAge(self):\n",
    "        print(\"I am \"+str(self.age)+\" years old.\")\n",
    "    def setAge(self,age):\n",
    "        self.age = age\n",
    "    def __str__(self):\n",
    "        return self.name\n",
    "#Calling super() gives access to the super class functionality\n",
    "#So if we want a new __init__ we could first call the super classes's __init__ function then add our own on\n",
    "class student(person):\n",
    "    def __init__(self, age, name, college):\n",
    "        super().__init__(age, name)\n",
    "        self.college = college\n",
    "    def collegeTalk(self):\n",
    "        print(\"I'm \"+str(self.name)+\" and I go to \"+self.college+\".\")\n",
    "\n",
    "\n",
    "\n",
    "Joe = student(25,\"Joe\",\"Harvard\")\n",
    "Joe.tellAge()\n",
    "Joe.collegeTalk()\n",
    "\n",
    "\n"
   ]
  },
  {
   "cell_type": "code",
   "execution_count": null,
   "metadata": {},
   "outputs": [],
   "source": []
  }
 ],
 "metadata": {
  "kernelspec": {
   "display_name": "Python 3",
   "language": "python",
   "name": "python3"
  },
  "language_info": {
   "codemirror_mode": {
    "name": "ipython",
    "version": 3
   },
   "file_extension": ".py",
   "mimetype": "text/x-python",
   "name": "python",
   "nbconvert_exporter": "python",
   "pygments_lexer": "ipython3",
   "version": "3.7.6"
  }
 },
 "nbformat": 4,
 "nbformat_minor": 2
}
