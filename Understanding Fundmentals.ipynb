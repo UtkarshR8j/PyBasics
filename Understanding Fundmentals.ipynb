{
 "cells": [
  {
   "cell_type": "code",
   "execution_count": 4,
   "metadata": {},
   "outputs": [
    {
     "name": "stdout",
     "output_type": "stream",
     "text": [
      "8791397855632 8791397855632\n",
      "5 3\n",
      "8791397855632 8791397855568\n"
     ]
    }
   ],
   "source": [
    "i = 5     # create int(5) instance, bind it to i\n",
    "j = i  # bind j to the same int as i\n",
    "print(id(i),id(j))  #pointers to memory locations\n",
    "j = 3     # create int(3) instance, bind it to j\n",
    "print (i,j) \n",
    "print(id(i),id(j))  # i still bound to the int(5), j bound to the int(3)"
   ]
  },
  {
   "cell_type": "code",
   "execution_count": null,
   "metadata": {},
   "outputs": [],
   "source": []
  }
 ],
 "metadata": {
  "kernelspec": {
   "display_name": "Python 3",
   "language": "python",
   "name": "python3"
  },
  "language_info": {
   "codemirror_mode": {
    "name": "ipython",
    "version": 3
   },
   "file_extension": ".py",
   "mimetype": "text/x-python",
   "name": "python",
   "nbconvert_exporter": "python",
   "pygments_lexer": "ipython3",
   "version": "3.7.6"
  }
 },
 "nbformat": 4,
 "nbformat_minor": 2
}
